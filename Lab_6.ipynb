{
  "nbformat": 4,
  "nbformat_minor": 0,
  "metadata": {
    "colab": {
      "provenance": [],
      "include_colab_link": true
    },
    "kernelspec": {
      "name": "python3",
      "display_name": "Python 3"
    },
    "language_info": {
      "name": "python"
    }
  },
  "cells": [
    {
      "cell_type": "markdown",
      "metadata": {
        "id": "view-in-github",
        "colab_type": "text"
      },
      "source": [
        "<a href=\"https://colab.research.google.com/github/2303A51762abhishek/datascience_1762/blob/main/Lab_6.ipynb\" target=\"_parent\"><img src=\"https://colab.research.google.com/assets/colab-badge.svg\" alt=\"Open In Colab\"/></a>"
      ]
    },
    {
      "cell_type": "code",
      "execution_count": null,
      "metadata": {
        "colab": {
          "base_uri": "https://localhost:8080/"
        },
        "id": "P88edygfM94-",
        "outputId": "a400f974-ea7f-4e8f-cb7c-184a60a340ea"
      },
      "outputs": [
        {
          "output_type": "stream",
          "name": "stdout",
          "text": [
            "Loaded Sales Dataset:\n",
            "   Invoice_No  Customer_Name     Product  Quantity  Price   Total\n",
            "0        1001       John Doe      Laptop       2.0  500.0     NaN\n",
            "1        1002     Jane Smith      Mobile       1.0  300.0   300.0\n",
            "2        1003       Mark Lee      Tablet       NaN  250.0     NaN\n",
            "3        1004    Emily Davis  Headphones       3.0    NaN   150.0\n",
            "4        1005  Chris Johnson     Monitor       5.0  200.0  1000.0\n",
            "5        1006    Sarah Brown         NaN       2.0  400.0     NaN\n",
            "6        1007   David Wilson     Printer       4.0  150.0   600.0\n",
            "7        1008    Laura White     Desktop      10.0    NaN  5000.0\n",
            "8        1009   James Miller    Keyboard      15.0   50.0     NaN\n",
            "9        1010   Linda Taylor      Camera       1.0  800.0     NaN\n",
            "\n",
            "Number of duplicate rows: 0\n",
            "\n",
            "Cleaned Dataset (duplicates removed):\n",
            "   Invoice_No  Customer_Name     Product  Quantity  Price   Total\n",
            "0        1001       John Doe      Laptop       2.0  500.0     NaN\n",
            "1        1002     Jane Smith      Mobile       1.0  300.0   300.0\n",
            "2        1003       Mark Lee      Tablet       NaN  250.0     NaN\n",
            "3        1004    Emily Davis  Headphones       3.0    NaN   150.0\n",
            "4        1005  Chris Johnson     Monitor       5.0  200.0  1000.0\n",
            "5        1006    Sarah Brown         NaN       2.0  400.0     NaN\n",
            "6        1007   David Wilson     Printer       4.0  150.0   600.0\n",
            "7        1008    Laura White     Desktop      10.0    NaN  5000.0\n",
            "8        1009   James Miller    Keyboard      15.0   50.0     NaN\n",
            "9        1010   Linda Taylor      Camera       1.0  800.0     NaN\n",
            "\n",
            "Number of duplicate rows after cleaning: 0\n"
          ]
        }
      ],
      "source": [
        "import pandas as pd\n",
        "df = pd.read_csv(\"sales_data.csv\")\n",
        "print(\"Loaded Sales Dataset:\")\n",
        "print(df)\n",
        "\n",
        "# Check for duplicates\n",
        "duplicate_count = df.duplicated().sum()\n",
        "print(\"\\nNumber of duplicate rows:\", duplicate_count)\n",
        "\n",
        "# Remove duplicates\n",
        "df_cleaned = df.drop_duplicates()\n",
        "\n",
        "# Save cleaned dataset\n",
        "df_cleaned.to_csv(\"sales_data_cleaned.csv\", index=False)\n",
        "\n",
        "print(\"\\nCleaned Dataset (duplicates removed):\")\n",
        "print(df_cleaned)\n",
        "print(\"\\nNumber of duplicate rows after cleaning:\", df_cleaned.duplicated().sum())\n"
      ]
    },
    {
      "cell_type": "code",
      "source": [
        "import pandas as pd\n",
        "\n",
        "# -----------------------------\n",
        "# Step 1: Load Employee Dataset\n",
        "# -----------------------------\n",
        "df = pd.read_csv(\"employee_data.csv\")\n",
        "\n",
        "print(\"Original Dataset (with incorrect data types):\")\n",
        "print(df.dtypes)\n",
        "print(df)\n",
        "\n",
        "# -----------------------------\n",
        "# Step 2: Convert Data Types\n",
        "# -----------------------------\n",
        "# Convert Salary to numeric\n",
        "df[\"Salary\"] = pd.to_numeric(df[\"Salary\"])\n",
        "\n",
        "# Convert Joining_Date to datetime\n",
        "df[\"Joining_Date\"] = pd.to_datetime(df[\"Joining_Date\"])\n",
        "\n",
        "print(\"\\nDataset after type conversion:\")\n",
        "print(df.dtypes)\n",
        "print(df)\n",
        "\n",
        "# -----------------------------\n",
        "# Step 3: Discussion\n",
        "# -----------------------------\n",
        "print(\"\\nDiscussion:\")\n",
        "print(\"Correct data types are crucial because:\")\n",
        "print(\"- Salary must be numeric to perform calculations (e.g., mean, max, sum).\")\n",
        "print(\"- Joining_Date must be datetime to calculate tenure, filter by year/month, etc.\")\n",
        "print(\"- If stored as string, these columns may cause errors, incorrect analysis, or inefficient processing.\")\n"
      ],
      "metadata": {
        "colab": {
          "base_uri": "https://localhost:8080/"
        },
        "id": "XrOc2L75NhBK",
        "outputId": "454ec6bc-69d8-4f71-f3dc-bda174fe3715"
      },
      "execution_count": null,
      "outputs": [
        {
          "output_type": "stream",
          "name": "stdout",
          "text": [
            "Original Dataset (with incorrect data types):\n",
            "Employee_ID      int64\n",
            "Name            object\n",
            "Department      object\n",
            "Salary           int64\n",
            "Joining_Date    object\n",
            "dtype: object\n",
            "   Employee_ID     Name Department  Salary Joining_Date\n",
            "0            1    Alice         HR   50000   2021-05-10\n",
            "1            2      Bob         IT   60000   2020-03-15\n",
            "2            3  Charlie    Finance   55000   2019-07-01\n",
            "3            4    David         IT   70000   2022-01-20\n",
            "4            5      Eva  Marketing   65000   2021-11-11\n",
            "\n",
            "Dataset after type conversion:\n",
            "Employee_ID              int64\n",
            "Name                    object\n",
            "Department              object\n",
            "Salary                   int64\n",
            "Joining_Date    datetime64[ns]\n",
            "dtype: object\n",
            "   Employee_ID     Name Department  Salary Joining_Date\n",
            "0            1    Alice         HR   50000   2021-05-10\n",
            "1            2      Bob         IT   60000   2020-03-15\n",
            "2            3  Charlie    Finance   55000   2019-07-01\n",
            "3            4    David         IT   70000   2022-01-20\n",
            "4            5      Eva  Marketing   65000   2021-11-11\n",
            "\n",
            "Discussion:\n",
            "Correct data types are crucial because:\n",
            "- Salary must be numeric to perform calculations (e.g., mean, max, sum).\n",
            "- Joining_Date must be datetime to calculate tenure, filter by year/month, etc.\n",
            "- If stored as string, these columns may cause errors, incorrect analysis, or inefficient processing.\n"
          ]
        }
      ]
    }
  ]
}